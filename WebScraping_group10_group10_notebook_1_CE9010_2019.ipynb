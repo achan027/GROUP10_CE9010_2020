{
 "cells": [
  {
   "cell_type": "code",
   "execution_count": null,
   "metadata": {},
   "outputs": [],
   "source": [
    "import pandas as pd\n",
    "from bs4 import BeautifulSoup\n",
    "from selenium import webdriver\n",
    "import time as time\n"
   ]
  },
  {
   "cell_type": "code",
   "execution_count": null,
   "metadata": {},
   "outputs": [],
   "source": [
    "start=time.time()\n",
    "chrome_options = webdriver.ChromeOptions()\n",
    "chrome_options.add_argument('--headless') \n",
    "chrome_options.add_argument(\"--start-maximized\");\n",
    "browser = webdriver.Chrome(executable_path='chromedriver',options=chrome_options)\n",
    "browser.get('https://sg.finance.yahoo.com/quote/BSL.SI/history?period1=1427241600&period2=1585094400&interval=1d&filter=history&frequency=1d')"
   ]
  },
  {
   "cell_type": "code",
   "execution_count": null,
   "metadata": {},
   "outputs": [],
   "source": [
    "for i in range (100):\n",
    "    browser.execute_script(\"window.scrollTo(0, 1000*document.body.scrollHeight);\")#Scroll 100 times downwards using webdri\n",
    "    \n",
    "soup = BeautifulSoup(browser.page_source, 'html.parser')   \n",
    "search = soup.find(id='site-content')\n",
    "table = soup.find_all(class_='Pb(10px) Ovx(a) W(100%)')\n",
    "indivlisting = soup.find_all(class_='BdT Bdc($seperatorColor) Ta(end) Fz(s) Whs(nw)')\n",
    "\n",
    "whole_list = []\n",
    "counter =0\n",
    "for i in soup.find_all(class_='BdT Bdc($seperatorColor) Ta(end) Fz(s) Whs(nw)'):\n",
    "    glist = []\n",
    "    for g in i.find_all('td'):\n",
    "        for h in g.find_all('span'):\n",
    "            hh = h.get_text()\n",
    "            glist.append(hh)\n",
    "    print(len(glist))\n",
    "    if len(glist) == 7: #because 7 features\n",
    "        whole_list.append(glist)\n",
    "        counter += 1\n",
    "\n",
    "print(counter)\n",
    "print(whole_list)\n",
    "listing_stuff = pd.DataFrame(whole_list, columns =['Date','Open','High','Low','Close','AdjClose','Vol'])\n",
    "print(listing_stuff)\n",
    "\n",
    "listing_stuff.to_csv('Yahoo.csv')\n",
    "end=time.time()\n",
    "print(end-start)"
   ]
  }
 ],
 "metadata": {
  "kernelspec": {
   "display_name": "Python 3",
   "language": "python",
   "name": "python3"
  },
  "language_info": {
   "codemirror_mode": {
    "name": "ipython",
    "version": 3
   },
   "file_extension": ".py",
   "mimetype": "text/x-python",
   "name": "python",
   "nbconvert_exporter": "python",
   "pygments_lexer": "ipython3",
   "version": "3.7.1"
  }
 },
 "nbformat": 4,
 "nbformat_minor": 2
}
